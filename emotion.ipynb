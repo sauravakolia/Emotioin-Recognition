{
  "nbformat": 4,
  "nbformat_minor": 0,
  "metadata": {
    "colab": {
      "name": "emotion.ipynb",
      "provenance": []
    },
    "kernelspec": {
      "name": "python3",
      "display_name": "Python 3"
    },
    "accelerator": "GPU",
    "widgets": {
      "application/vnd.jupyter.widget-state+json": {
        "879c58481b714557bde8df0f16026c7a": {
          "model_module": "@jupyter-widgets/controls",
          "model_name": "HBoxModel",
          "state": {
            "_view_name": "HBoxView",
            "_dom_classes": [],
            "_model_name": "HBoxModel",
            "_view_module": "@jupyter-widgets/controls",
            "_model_module_version": "1.5.0",
            "_view_count": null,
            "_view_module_version": "1.5.0",
            "box_style": "",
            "layout": "IPY_MODEL_6b15a2d470b14293ae384b0edbc06598",
            "_model_module": "@jupyter-widgets/controls",
            "children": [
              "IPY_MODEL_82cd005932344f5a895c1e44e5989f6d",
              "IPY_MODEL_83b6eab9a0dc420aab6541f1f5f0613c"
            ]
          }
        },
        "6b15a2d470b14293ae384b0edbc06598": {
          "model_module": "@jupyter-widgets/base",
          "model_name": "LayoutModel",
          "state": {
            "_view_name": "LayoutView",
            "grid_template_rows": null,
            "right": null,
            "justify_content": null,
            "_view_module": "@jupyter-widgets/base",
            "overflow": null,
            "_model_module_version": "1.2.0",
            "_view_count": null,
            "flex_flow": null,
            "width": null,
            "min_width": null,
            "border": null,
            "align_items": null,
            "bottom": null,
            "_model_module": "@jupyter-widgets/base",
            "top": null,
            "grid_column": null,
            "overflow_y": null,
            "overflow_x": null,
            "grid_auto_flow": null,
            "grid_area": null,
            "grid_template_columns": null,
            "flex": null,
            "_model_name": "LayoutModel",
            "justify_items": null,
            "grid_row": null,
            "max_height": null,
            "align_content": null,
            "visibility": null,
            "align_self": null,
            "height": null,
            "min_height": null,
            "padding": null,
            "grid_auto_rows": null,
            "grid_gap": null,
            "max_width": null,
            "order": null,
            "_view_module_version": "1.2.0",
            "grid_template_areas": null,
            "object_position": null,
            "object_fit": null,
            "grid_auto_columns": null,
            "margin": null,
            "display": null,
            "left": null
          }
        },
        "82cd005932344f5a895c1e44e5989f6d": {
          "model_module": "@jupyter-widgets/controls",
          "model_name": "FloatProgressModel",
          "state": {
            "_view_name": "ProgressView",
            "style": "IPY_MODEL_a8bca412cef34991804fe48b8c50feb0",
            "_dom_classes": [],
            "description": "100%",
            "_model_name": "FloatProgressModel",
            "bar_style": "success",
            "max": 46827520,
            "_view_module": "@jupyter-widgets/controls",
            "_model_module_version": "1.5.0",
            "value": 46827520,
            "_view_count": null,
            "_view_module_version": "1.5.0",
            "orientation": "horizontal",
            "min": 0,
            "description_tooltip": null,
            "_model_module": "@jupyter-widgets/controls",
            "layout": "IPY_MODEL_cf7f346dbfa64356aae684fa87674940"
          }
        },
        "83b6eab9a0dc420aab6541f1f5f0613c": {
          "model_module": "@jupyter-widgets/controls",
          "model_name": "HTMLModel",
          "state": {
            "_view_name": "HTMLView",
            "style": "IPY_MODEL_3ef988df6aa9436e85d4eea4b0fbf5f3",
            "_dom_classes": [],
            "description": "",
            "_model_name": "HTMLModel",
            "placeholder": "​",
            "_view_module": "@jupyter-widgets/controls",
            "_model_module_version": "1.5.0",
            "value": " 44.7M/44.7M [00:13&lt;00:00, 3.40MB/s]",
            "_view_count": null,
            "_view_module_version": "1.5.0",
            "description_tooltip": null,
            "_model_module": "@jupyter-widgets/controls",
            "layout": "IPY_MODEL_b8b80f1f0eb64108a7816f917b3003af"
          }
        },
        "a8bca412cef34991804fe48b8c50feb0": {
          "model_module": "@jupyter-widgets/controls",
          "model_name": "ProgressStyleModel",
          "state": {
            "_view_name": "StyleView",
            "_model_name": "ProgressStyleModel",
            "description_width": "initial",
            "_view_module": "@jupyter-widgets/base",
            "_model_module_version": "1.5.0",
            "_view_count": null,
            "_view_module_version": "1.2.0",
            "bar_color": null,
            "_model_module": "@jupyter-widgets/controls"
          }
        },
        "cf7f346dbfa64356aae684fa87674940": {
          "model_module": "@jupyter-widgets/base",
          "model_name": "LayoutModel",
          "state": {
            "_view_name": "LayoutView",
            "grid_template_rows": null,
            "right": null,
            "justify_content": null,
            "_view_module": "@jupyter-widgets/base",
            "overflow": null,
            "_model_module_version": "1.2.0",
            "_view_count": null,
            "flex_flow": null,
            "width": null,
            "min_width": null,
            "border": null,
            "align_items": null,
            "bottom": null,
            "_model_module": "@jupyter-widgets/base",
            "top": null,
            "grid_column": null,
            "overflow_y": null,
            "overflow_x": null,
            "grid_auto_flow": null,
            "grid_area": null,
            "grid_template_columns": null,
            "flex": null,
            "_model_name": "LayoutModel",
            "justify_items": null,
            "grid_row": null,
            "max_height": null,
            "align_content": null,
            "visibility": null,
            "align_self": null,
            "height": null,
            "min_height": null,
            "padding": null,
            "grid_auto_rows": null,
            "grid_gap": null,
            "max_width": null,
            "order": null,
            "_view_module_version": "1.2.0",
            "grid_template_areas": null,
            "object_position": null,
            "object_fit": null,
            "grid_auto_columns": null,
            "margin": null,
            "display": null,
            "left": null
          }
        },
        "3ef988df6aa9436e85d4eea4b0fbf5f3": {
          "model_module": "@jupyter-widgets/controls",
          "model_name": "DescriptionStyleModel",
          "state": {
            "_view_name": "StyleView",
            "_model_name": "DescriptionStyleModel",
            "description_width": "",
            "_view_module": "@jupyter-widgets/base",
            "_model_module_version": "1.5.0",
            "_view_count": null,
            "_view_module_version": "1.2.0",
            "_model_module": "@jupyter-widgets/controls"
          }
        },
        "b8b80f1f0eb64108a7816f917b3003af": {
          "model_module": "@jupyter-widgets/base",
          "model_name": "LayoutModel",
          "state": {
            "_view_name": "LayoutView",
            "grid_template_rows": null,
            "right": null,
            "justify_content": null,
            "_view_module": "@jupyter-widgets/base",
            "overflow": null,
            "_model_module_version": "1.2.0",
            "_view_count": null,
            "flex_flow": null,
            "width": null,
            "min_width": null,
            "border": null,
            "align_items": null,
            "bottom": null,
            "_model_module": "@jupyter-widgets/base",
            "top": null,
            "grid_column": null,
            "overflow_y": null,
            "overflow_x": null,
            "grid_auto_flow": null,
            "grid_area": null,
            "grid_template_columns": null,
            "flex": null,
            "_model_name": "LayoutModel",
            "justify_items": null,
            "grid_row": null,
            "max_height": null,
            "align_content": null,
            "visibility": null,
            "align_self": null,
            "height": null,
            "min_height": null,
            "padding": null,
            "grid_auto_rows": null,
            "grid_gap": null,
            "max_width": null,
            "order": null,
            "_view_module_version": "1.2.0",
            "grid_template_areas": null,
            "object_position": null,
            "object_fit": null,
            "grid_auto_columns": null,
            "margin": null,
            "display": null,
            "left": null
          }
        }
      }
    }
  },
  "cells": [
    {
      "cell_type": "code",
      "metadata": {
        "colab": {
          "base_uri": "https://localhost:8080/"
        },
        "id": "J34vfsS5Z82U",
        "outputId": "395a07c5-2b97-4fea-fbae-8a8f9f62bdcc"
      },
      "source": [
        "!pip install fastai --upgrade --quiet"
      ],
      "execution_count": 1,
      "outputs": [
        {
          "output_type": "stream",
          "text": [
            "\u001b[K     |████████████████████████████████| 194kB 5.8MB/s \n",
            "\u001b[K     |████████████████████████████████| 61kB 9.4MB/s \n",
            "\u001b[?25h"
          ],
          "name": "stdout"
        }
      ]
    },
    {
      "cell_type": "code",
      "metadata": {
        "id": "zvK4jC98aBpX"
      },
      "source": [
        "from fastai.vision.all import *\r\n",
        "from fastai.metrics import error_rate, accuracy"
      ],
      "execution_count": 2,
      "outputs": []
    },
    {
      "cell_type": "code",
      "metadata": {
        "colab": {
          "resources": {
            "http://localhost:8080/nbextensions/google.colab/files.js": {
              "data": "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",
              "ok": true,
              "headers": [
                [
                  "content-type",
                  "application/javascript"
                ]
              ],
              "status": 200,
              "status_text": "OK"
            }
          },
          "base_uri": "https://localhost:8080/",
          "height": 94
        },
        "id": "S-Yyq7uYaDrI",
        "outputId": "4714f7a4-52d3-442d-f6df-1ca1e44e60e3"
      },
      "source": [
        "from google.colab import files\r\n",
        "\r\n",
        "files.upload()"
      ],
      "execution_count": 3,
      "outputs": [
        {
          "output_type": "display_data",
          "data": {
            "text/html": [
              "\n",
              "     <input type=\"file\" id=\"files-2b324955-071e-48d7-b12d-50890ee6d2d5\" name=\"files[]\" multiple disabled\n",
              "        style=\"border:none\" />\n",
              "     <output id=\"result-2b324955-071e-48d7-b12d-50890ee6d2d5\">\n",
              "      Upload widget is only available when the cell has been executed in the\n",
              "      current browser session. Please rerun this cell to enable.\n",
              "      </output>\n",
              "      <script src=\"/nbextensions/google.colab/files.js\"></script> "
            ],
            "text/plain": [
              "<IPython.core.display.HTML object>"
            ]
          },
          "metadata": {
            "tags": []
          }
        },
        {
          "output_type": "stream",
          "text": [
            "Saving kaggle.json to kaggle.json\n"
          ],
          "name": "stdout"
        },
        {
          "output_type": "execute_result",
          "data": {
            "text/plain": [
              "{'kaggle.json': b'{\"username\":\"saurava\",\"key\":\"44021ce0500c4057d32849f9ae9484e4\"}'}"
            ]
          },
          "metadata": {
            "tags": []
          },
          "execution_count": 3
        }
      ]
    },
    {
      "cell_type": "code",
      "metadata": {
        "id": "OAKLU7IMaHfm"
      },
      "source": [
        "! mkdir ~/.kaggle\r\n",
        "\r\n",
        "! cp kaggle.json ~/.kaggle/"
      ],
      "execution_count": 4,
      "outputs": []
    },
    {
      "cell_type": "code",
      "metadata": {
        "id": "eaKwLQPUaMKQ"
      },
      "source": [
        ""
      ],
      "execution_count": null,
      "outputs": []
    },
    {
      "cell_type": "code",
      "metadata": {
        "id": "bQh6ze2UE-jq"
      },
      "source": [
        "\r\n",
        "\r\n",
        "! chmod 600 ~/.kaggle/kaggle.json"
      ],
      "execution_count": 5,
      "outputs": []
    },
    {
      "cell_type": "code",
      "metadata": {
        "id": "aPmBdqgNFACX"
      },
      "source": [
        "import os\r\n",
        "os.mkdir('emotions_recogination')"
      ],
      "execution_count": 6,
      "outputs": []
    },
    {
      "cell_type": "code",
      "metadata": {
        "id": "5vsIMmxfFLoY",
        "colab": {
          "base_uri": "https://localhost:8080/"
        },
        "outputId": "5279166f-3f45-44ad-cfb3-68f90286ee8b"
      },
      "source": [
        "!kaggle datasets download -d deadskull7/fer2013"
      ],
      "execution_count": 7,
      "outputs": [
        {
          "output_type": "stream",
          "text": [
            "Downloading fer2013.zip to /content\n",
            " 84% 81.0M/96.6M [00:04<00:01, 8.80MB/s]\n",
            "100% 96.6M/96.6M [00:04<00:00, 20.8MB/s]\n"
          ],
          "name": "stdout"
        }
      ]
    },
    {
      "cell_type": "code",
      "metadata": {
        "id": "L4HISywpLKhj"
      },
      "source": [
        "from fastai.data.core import DataLoaders"
      ],
      "execution_count": 8,
      "outputs": []
    },
    {
      "cell_type": "code",
      "metadata": {
        "id": "jB1NIVdyFNUp"
      },
      "source": [
        "import os\r\n",
        "import zipfile\r\n",
        "\r\n",
        "local_zip = '/content/fer2013.zip'\r\n",
        "zip_ref = zipfile.ZipFile(local_zip, 'r')\r\n",
        "zip_ref.extractall('emotions_recogination')\r\n",
        "zip_ref.close()\r\n"
      ],
      "execution_count": 9,
      "outputs": []
    },
    {
      "cell_type": "code",
      "metadata": {
        "colab": {
          "base_uri": "https://localhost:8080/",
          "height": 1000
        },
        "id": "ewJFr7xxF8ut",
        "outputId": "ac337f1c-73e4-446e-b078-571093219bc7"
      },
      "source": [
        "df=pd.read_csv('/content/emotions_recogination/fer2013.csv')\r\n",
        "df['Usage'].unique()\r\n",
        "df"
      ],
      "execution_count": 10,
      "outputs": [
        {
          "output_type": "execute_result",
          "data": {
            "text/html": [
              "<div>\n",
              "<style scoped>\n",
              "    .dataframe tbody tr th:only-of-type {\n",
              "        vertical-align: middle;\n",
              "    }\n",
              "\n",
              "    .dataframe tbody tr th {\n",
              "        vertical-align: top;\n",
              "    }\n",
              "\n",
              "    .dataframe thead th {\n",
              "        text-align: right;\n",
              "    }\n",
              "</style>\n",
              "<table border=\"1\" class=\"dataframe\">\n",
              "  <thead>\n",
              "    <tr style=\"text-align: right;\">\n",
              "      <th></th>\n",
              "      <th>emotion</th>\n",
              "      <th>pixels</th>\n",
              "      <th>Usage</th>\n",
              "    </tr>\n",
              "  </thead>\n",
              "  <tbody>\n",
              "    <tr>\n",
              "      <th>0</th>\n",
              "      <td>0</td>\n",
              "      <td>70 80 82 72 58 58 60 63 54 58 60 48 89 115 121 119 115 110 98 91 84 84 90 99 110 126 143 153 158 171 169 172 169 165 129 110 113 107 95 79 66 62 56 57 61 52 43 41 65 61 58 57 56 69 75 70 65 56 54 105 146 154 151 151 155 155 150 147 147 148 152 158 164 172 177 182 186 189 188 190 188 180 167 116 95 103 97 77 72 62 55 58 54 56 52 44 50 43 54 64 63 71 68 64 52 66 119 156 161 164 163 164 167 168 170 174 175 176 178 179 183 187 190 195 197 198 197 198 195 191 190 145 86 100 90 65 57 60 54 51 41 49 56 47 38 44 63 55 46 52 54 55 83 138 157 158 165 168 172 171 173 176 179 179 180 182 185 187 189 1...</td>\n",
              "      <td>Training</td>\n",
              "    </tr>\n",
              "    <tr>\n",
              "      <th>1</th>\n",
              "      <td>0</td>\n",
              "      <td>151 150 147 155 148 133 111 140 170 174 182 154 153 164 173 178 185 185 189 187 186 193 194 185 183 186 180 173 166 161 147 133 172 151 114 161 161 146 131 104 95 132 163 123 119 129 140 120 151 149 149 153 137 115 129 166 170 181 164 143 157 156 169 179 185 183 186 186 184 190 191 184 186 190 183 175 168 160 147 136 135 167 136 108 153 167 149 137 111 90 134 162 121 122 141 137 151 151 156 143 116 124 159 164 174 169 135 144 155 153 164 170 176 178 177 178 187 185 181 182 183 181 178 170 164 158 148 144 130 136 173 130 97 137 167 157 138 113 90 138 168 109 123 146 151 152 155 127 113 159 ...</td>\n",
              "      <td>Training</td>\n",
              "    </tr>\n",
              "    <tr>\n",
              "      <th>2</th>\n",
              "      <td>2</td>\n",
              "      <td>231 212 156 164 174 138 161 173 182 200 106 38 39 74 138 161 164 179 190 201 210 216 220 224 222 218 216 213 217 220 220 218 217 212 174 160 162 160 139 135 137 131 94 56 36 44 27 16 229 175 148 173 154 151 171 172 183 101 23 25 67 127 164 170 171 182 199 212 219 220 224 226 226 226 226 226 227 227 228 225 221 217 202 174 158 155 145 126 126 129 99 70 37 27 35 27 214 156 157 168 153 172 168 175 100 16 8 47 117 169 175 175 183 194 204 214 218 223 225 227 228 226 229 231 232 232 229 227 225 224 217 198 174 154 134 110 97 115 96 69 52 28 22 28 202 153 166 156 164 166 170 116 26 2 21 90 165 18...</td>\n",
              "      <td>Training</td>\n",
              "    </tr>\n",
              "    <tr>\n",
              "      <th>3</th>\n",
              "      <td>4</td>\n",
              "      <td>24 32 36 30 32 23 19 20 30 41 21 22 32 34 21 19 43 52 13 26 40 59 65 12 20 63 99 98 98 111 75 62 41 73 118 140 192 186 187 188 190 190 187 182 176 173 172 173 25 34 29 35 29 26 20 23 19 31 22 21 20 31 26 17 34 75 37 18 38 80 85 25 38 26 34 97 94 76 86 95 70 39 98 129 185 188 188 189 190 190 188 182 176 173 172 173 26 29 25 35 25 30 20 21 16 28 34 26 15 17 19 22 29 62 64 47 45 76 76 78 65 82 12 14 56 56 72 74 66 65 86 129 172 190 187 189 190 190 187 182 177 172 172 174 26 33 32 31 25 33 26 21 16 16 37 27 14 15 12 17 31 38 40 58 73 59 35 82 68 72 43 22 33 52 51 66 71 57 71 121 160 191 188 18...</td>\n",
              "      <td>Training</td>\n",
              "    </tr>\n",
              "    <tr>\n",
              "      <th>4</th>\n",
              "      <td>6</td>\n",
              "      <td>4 0 0 0 0 0 0 0 0 0 0 0 3 15 23 28 48 50 58 84 115 127 137 142 151 156 155 149 153 152 157 160 162 159 145 121 83 58 48 38 21 17 7 5 25 27 24 25 1 0 0 0 0 0 0 0 0 0 0 6 18 26 37 50 62 83 115 134 138 144 147 150 162 163 164 161 165 169 171 176 175 177 169 147 110 79 64 42 23 13 9 2 16 26 23 26 0 0 0 0 0 0 0 0 0 1 6 18 29 49 73 93 116 129 138 143 148 153 158 158 162 168 170 169 170 176 181 185 186 183 180 167 143 109 81 54 29 11 8 3 10 27 26 26 0 0 0 0 0 0 0 0 0 8 32 55 74 94 108 121 127 132 138 145 154 159 160 162 166 170 174 173 177 181 183 183 186 188 188 180 164 138 113 69 36 14 4 3 11 2...</td>\n",
              "      <td>Training</td>\n",
              "    </tr>\n",
              "    <tr>\n",
              "      <th>...</th>\n",
              "      <td>...</td>\n",
              "      <td>...</td>\n",
              "      <td>...</td>\n",
              "    </tr>\n",
              "    <tr>\n",
              "      <th>35882</th>\n",
              "      <td>6</td>\n",
              "      <td>50 36 17 22 23 29 33 39 34 37 37 37 39 43 48 50 53 60 67 69 72 73 82 86 87 94 94 89 84 78 78 80 73 68 63 59 56 56 56 43 33 25 60 80 78 80 79 81 46 23 18 22 26 31 37 38 35 37 38 37 39 44 49 52 57 61 64 66 71 74 83 87 92 96 96 95 90 83 84 81 79 72 63 60 57 55 57 49 35 27 38 78 77 79 80 80 37 19 19 22 27 31 41 40 37 37 36 38 39 43 49 52 52 56 62 64 74 83 87 90 99 97 100 99 90 91 86 79 80 72 68 62 57 54 56 50 40 31 26 66 78 78 80 80 30 17 20 22 25 33 40 41 37 37 36 37 39 43 47 51 57 64 68 70 78 85 87 89 106 101 87 92 88 88 85 81 79 73 70 62 56 55 54 53 46 38 28 46 76 78 80 81 23 18 18 22 27 34...</td>\n",
              "      <td>PrivateTest</td>\n",
              "    </tr>\n",
              "    <tr>\n",
              "      <th>35883</th>\n",
              "      <td>3</td>\n",
              "      <td>178 174 172 173 181 188 191 194 196 199 200 201 204 206 202 195 185 182 183 184 188 191 194 192 187 182 182 184 187 189 190 187 184 180 172 167 164 162 159 159 161 169 171 168 145 78 41 57 181 178 178 180 185 191 196 196 199 202 204 204 207 209 207 199 187 184 182 184 190 194 197 194 189 185 185 184 184 184 184 181 176 172 168 166 160 158 154 152 157 163 168 179 174 126 63 64 181 176 176 180 184 191 196 197 200 204 205 206 209 209 206 199 188 183 181 183 189 197 197 194 189 186 182 174 160 139 112 87 67 57 60 69 88 101 119 139 146 149 157 165 174 177 145 82 154 169 176 179 181 186 193 196 ...</td>\n",
              "      <td>PrivateTest</td>\n",
              "    </tr>\n",
              "    <tr>\n",
              "      <th>35884</th>\n",
              "      <td>0</td>\n",
              "      <td>17 17 16 23 28 22 19 17 25 26 20 24 31 19 27 92 164 195 220 150 123 190 168 86 82 134 183 198 91 106 89 30 78 114 110 100 76 39 24 38 76 52 34 48 109 83 114 245 18 17 16 22 21 25 21 20 23 28 27 28 24 16 26 94 197 220 227 163 151 241 214 219 207 189 207 225 169 136 220 141 75 95 103 78 50 35 37 135 213 163 79 69 120 104 136 253 19 16 17 17 18 24 24 22 23 22 33 33 29 17 21 83 226 222 242 141 158 227 213 225 232 216 215 223 225 119 210 236 172 117 106 59 34 24 21 94 227 213 100 51 113 128 152 255 22 14 15 14 19 22 24 29 35 19 27 30 32 24 23 58 198 200 172 157 186 198 201 190 202 213 209 223 2...</td>\n",
              "      <td>PrivateTest</td>\n",
              "    </tr>\n",
              "    <tr>\n",
              "      <th>35885</th>\n",
              "      <td>3</td>\n",
              "      <td>30 28 28 29 31 30 42 68 79 81 77 67 67 71 63 61 78 108 142 147 123 113 111 107 113 125 136 145 137 118 101 85 64 59 71 83 85 81 96 109 102 94 84 80 71 60 50 44 30 27 28 29 32 30 51 72 73 76 68 63 58 49 39 38 58 73 71 105 124 112 104 108 113 124 132 141 131 115 94 77 66 79 90 88 96 113 120 111 91 78 76 75 72 64 52 40 31 28 30 33 33 32 63 78 77 80 68 38 33 38 83 39 61 75 39 47 98 118 102 102 116 126 139 147 129 106 89 76 81 92 87 95 102 93 82 66 56 53 59 63 65 61 54 37 30 30 32 38 33 35 75 84 95 98 85 84 75 66 75 56 48 34 54 70 70 117 106 98 117 126 142 146 128 101 82 73 78 92 96 83 62 48 49...</td>\n",
              "      <td>PrivateTest</td>\n",
              "    </tr>\n",
              "    <tr>\n",
              "      <th>35886</th>\n",
              "      <td>2</td>\n",
              "      <td>19 13 14 12 13 16 21 33 50 57 71 84 97 108 122 136 145 154 161 170 177 176 179 181 188 189 181 168 162 161 155 137 109 81 52 30 22 22 25 25 27 53 63 84 108 108 95 86 16 17 15 14 16 20 32 49 59 80 95 103 110 119 125 137 142 150 160 163 174 173 170 175 178 185 186 185 178 174 168 162 142 107 79 46 28 23 24 29 21 58 82 93 114 105 94 90 10 9 10 13 17 28 49 71 78 99 114 120 122 127 132 140 145 144 150 155 165 172 171 165 165 174 182 184 181 174 171 168 167 136 107 73 33 22 29 27 27 50 95 109 118 101 93 95 10 10 10 14 23 37 59 82 101 114 124 129 131 131 136 142 146 149 148 155 164 168 174 174 16...</td>\n",
              "      <td>PrivateTest</td>\n",
              "    </tr>\n",
              "  </tbody>\n",
              "</table>\n",
              "<p>35887 rows × 3 columns</p>\n",
              "</div>"
            ],
            "text/plain": [
              "       emotion  ...        Usage\n",
              "0            0  ...     Training\n",
              "1            0  ...     Training\n",
              "2            2  ...     Training\n",
              "3            4  ...     Training\n",
              "4            6  ...     Training\n",
              "...        ...  ...          ...\n",
              "35882        6  ...  PrivateTest\n",
              "35883        3  ...  PrivateTest\n",
              "35884        0  ...  PrivateTest\n",
              "35885        3  ...  PrivateTest\n",
              "35886        2  ...  PrivateTest\n",
              "\n",
              "[35887 rows x 3 columns]"
            ]
          },
          "metadata": {
            "tags": []
          },
          "execution_count": 10
        }
      ]
    },
    {
      "cell_type": "code",
      "metadata": {
        "id": "5PyOlUsLaS0h"
      },
      "source": [
        "path=Path('/content/emotions_recogination')"
      ],
      "execution_count": 11,
      "outputs": []
    },
    {
      "cell_type": "code",
      "metadata": {
        "id": "NlYTS4F3acGi"
      },
      "source": [
        ""
      ],
      "execution_count": null,
      "outputs": []
    },
    {
      "cell_type": "code",
      "metadata": {
        "id": "k4tByKVKj2aF"
      },
      "source": [
        "class EmotionImage(fastuple):\r\n",
        "    def show(self, ctx=None, **kwargs):\r\n",
        "        img, emotion = self\r\n",
        "        if not isinstance(img, Tensor):\r\n",
        "          image=tensor(img).float()/255.0\r\n",
        "          image=image.unsqueeze(0)\r\n",
        "          image=image.expand(3,48,48)\r\n",
        "          \r\n",
        "          img_tensor = image\r\n",
        "        else:\r\n",
        "          img_tensor = img\r\n",
        "        return show_image(img_tensor,title=emotion, ctx=ctx, **kwargs)"
      ],
      "execution_count": 12,
      "outputs": []
    },
    {
      "cell_type": "code",
      "metadata": {
        "id": "uy9elr0nkyRi"
      },
      "source": [
        "width,height=48,48\r\n",
        "image_size=(48,48)\r\n",
        "class EmotionDataset2(Transform):\r\n",
        "  def __init__(self,df):\r\n",
        "    super(EmotionDataset2,self).__init__()\r\n",
        "    self.df=df\r\n",
        "  \r\n",
        "\r\n",
        "  def __len__(self):\r\n",
        "    return len(self.df)\r\n",
        "\r\n",
        "  def encodes(self,idx):\r\n",
        "    # print(idx)\r\n",
        "    idx=idx.name\r\n",
        "  \r\n",
        "    torch.Tensor.ndim = property(lambda x: len(x.shape))\r\n",
        "    # print(idx.name)\r\n",
        "    # emotion=idx['emotion']\r\n",
        "    emotion=df['emotion'].iloc[idx]\r\n",
        "\r\n",
        "    torch.Tensor.ndim = property(lambda x: len(x.shape))\r\n",
        "    one_hot_targets = torch.tensor(np.eye(7)[emotion]).type(torch.FloatTensor)\r\n",
        "  \r\n",
        "    arr=df['pixels'].iloc[idx]\r\n",
        "    # print(arr)\r\n",
        "    # arr=list(map(int,pixels.split(' ')))\r\n",
        "\r\n",
        "    array=np.array(arr).reshape(width, height)\r\n",
        "    img= Image.fromarray((array).astype('uint8'))\r\n",
        "    # image=to_image(img)\r\n",
        "    image=PILImage(img)\r\n",
        "    \r\n",
        "    return EmotionImage(image ,one_hot_targets)\r\n",
        "\r\n",
        "  "
      ],
      "execution_count": 14,
      "outputs": []
    },
    {
      "cell_type": "code",
      "metadata": {
        "id": "q8UK1FfgrRTT"
      },
      "source": [
        ""
      ],
      "execution_count": 14,
      "outputs": []
    },
    {
      "cell_type": "code",
      "metadata": {
        "id": "aibZwYTthu0_"
      },
      "source": [
        "@typedispatch\r\n",
        "def show_batch(x:EmotionImage, y, samples, ctxs=None, max_n=6, nrows=None, ncols=2, figsize=None, **kwargs):\r\n",
        "    if figsize is None: figsize = (ncols*6, max_n//ncols * 3)\r\n",
        "    if ctxs is None: ctxs = get_grid(min(x[0].shape[0], max_n), nrows=None, ncols=ncols, figsize=figsize)\r\n",
        "    for i,ctx in enumerate(ctxs): EmotionImage((x[0][i], str( torch.max(x[1][i]).item() ) ) ).show(ctx=ctx)"
      ],
      "execution_count": 15,
      "outputs": []
    },
    {
      "cell_type": "code",
      "metadata": {
        "colab": {
          "base_uri": "https://localhost:8080/"
        },
        "id": "09qZpt7la8S0",
        "outputId": "38f1c2eb-5c07-4214-e9e2-e96a8ae14ff2"
      },
      "source": [
        "for i in range(len(df)):\r\n",
        "  pixels=df['pixels'].iloc[i]\r\n",
        "  arr=list(map(int,pixels.split(' ')))\r\n",
        "  df['pixels'].iloc[i]=np.array(arr)"
      ],
      "execution_count": 16,
      "outputs": [
        {
          "output_type": "stream",
          "text": [
            "/usr/local/lib/python3.6/dist-packages/pandas/core/indexing.py:670: SettingWithCopyWarning: \n",
            "A value is trying to be set on a copy of a slice from a DataFrame\n",
            "\n",
            "See the caveats in the documentation: https://pandas.pydata.org/pandas-docs/stable/user_guide/indexing.html#returning-a-view-versus-a-copy\n",
            "  iloc._setitem_with_indexer(indexer, value)\n"
          ],
          "name": "stderr"
        }
      ]
    },
    {
      "cell_type": "code",
      "metadata": {
        "colab": {
          "base_uri": "https://localhost:8080/",
          "height": 432
        },
        "id": "Zn6KtsXVbDAw",
        "outputId": "7f5fdd8c-75c1-406b-8719-85856a049100"
      },
      "source": [
        "df.head()"
      ],
      "execution_count": 17,
      "outputs": [
        {
          "output_type": "execute_result",
          "data": {
            "text/html": [
              "<div>\n",
              "<style scoped>\n",
              "    .dataframe tbody tr th:only-of-type {\n",
              "        vertical-align: middle;\n",
              "    }\n",
              "\n",
              "    .dataframe tbody tr th {\n",
              "        vertical-align: top;\n",
              "    }\n",
              "\n",
              "    .dataframe thead th {\n",
              "        text-align: right;\n",
              "    }\n",
              "</style>\n",
              "<table border=\"1\" class=\"dataframe\">\n",
              "  <thead>\n",
              "    <tr style=\"text-align: right;\">\n",
              "      <th></th>\n",
              "      <th>emotion</th>\n",
              "      <th>pixels</th>\n",
              "      <th>Usage</th>\n",
              "    </tr>\n",
              "  </thead>\n",
              "  <tbody>\n",
              "    <tr>\n",
              "      <th>0</th>\n",
              "      <td>0</td>\n",
              "      <td>[70, 80, 82, 72, 58, 58, 60, 63, 54, 58, 60, 48, 89, 115, 121, 119, 115, 110, 98, 91, 84, 84, 90, 99, 110, 126, 143, 153, 158, 171, 169, 172, 169, 165, 129, 110, 113, 107, 95, 79, 66, 62, 56, 57, 61, 52, 43, 41, 65, 61, 58, 57, 56, 69, 75, 70, 65, 56, 54, 105, 146, 154, 151, 151, 155, 155, 150, 147, 147, 148, 152, 158, 164, 172, 177, 182, 186, 189, 188, 190, 188, 180, 167, 116, 95, 103, 97, 77, 72, 62, 55, 58, 54, 56, 52, 44, 50, 43, 54, 64, ...]</td>\n",
              "      <td>Training</td>\n",
              "    </tr>\n",
              "    <tr>\n",
              "      <th>1</th>\n",
              "      <td>0</td>\n",
              "      <td>[151, 150, 147, 155, 148, 133, 111, 140, 170, 174, 182, 154, 153, 164, 173, 178, 185, 185, 189, 187, 186, 193, 194, 185, 183, 186, 180, 173, 166, 161, 147, 133, 172, 151, 114, 161, 161, 146, 131, 104, 95, 132, 163, 123, 119, 129, 140, 120, 151, 149, 149, 153, 137, 115, 129, 166, 170, 181, 164, 143, 157, 156, 169, 179, 185, 183, 186, 186, 184, 190, 191, 184, 186, 190, 183, 175, 168, 160, 147, 136, 135, 167, 136, 108, 153, 167, 149, 137, 111, 90, 134, 162, 121, 122, 141, 137, 151, 151, 156, 143, ...]</td>\n",
              "      <td>Training</td>\n",
              "    </tr>\n",
              "    <tr>\n",
              "      <th>2</th>\n",
              "      <td>2</td>\n",
              "      <td>[231, 212, 156, 164, 174, 138, 161, 173, 182, 200, 106, 38, 39, 74, 138, 161, 164, 179, 190, 201, 210, 216, 220, 224, 222, 218, 216, 213, 217, 220, 220, 218, 217, 212, 174, 160, 162, 160, 139, 135, 137, 131, 94, 56, 36, 44, 27, 16, 229, 175, 148, 173, 154, 151, 171, 172, 183, 101, 23, 25, 67, 127, 164, 170, 171, 182, 199, 212, 219, 220, 224, 226, 226, 226, 226, 226, 227, 227, 228, 225, 221, 217, 202, 174, 158, 155, 145, 126, 126, 129, 99, 70, 37, 27, 35, 27, 214, 156, 157, 168, ...]</td>\n",
              "      <td>Training</td>\n",
              "    </tr>\n",
              "    <tr>\n",
              "      <th>3</th>\n",
              "      <td>4</td>\n",
              "      <td>[24, 32, 36, 30, 32, 23, 19, 20, 30, 41, 21, 22, 32, 34, 21, 19, 43, 52, 13, 26, 40, 59, 65, 12, 20, 63, 99, 98, 98, 111, 75, 62, 41, 73, 118, 140, 192, 186, 187, 188, 190, 190, 187, 182, 176, 173, 172, 173, 25, 34, 29, 35, 29, 26, 20, 23, 19, 31, 22, 21, 20, 31, 26, 17, 34, 75, 37, 18, 38, 80, 85, 25, 38, 26, 34, 97, 94, 76, 86, 95, 70, 39, 98, 129, 185, 188, 188, 189, 190, 190, 188, 182, 176, 173, 172, 173, 26, 29, 25, 35, ...]</td>\n",
              "      <td>Training</td>\n",
              "    </tr>\n",
              "    <tr>\n",
              "      <th>4</th>\n",
              "      <td>6</td>\n",
              "      <td>[4, 0, 0, 0, 0, 0, 0, 0, 0, 0, 0, 0, 3, 15, 23, 28, 48, 50, 58, 84, 115, 127, 137, 142, 151, 156, 155, 149, 153, 152, 157, 160, 162, 159, 145, 121, 83, 58, 48, 38, 21, 17, 7, 5, 25, 27, 24, 25, 1, 0, 0, 0, 0, 0, 0, 0, 0, 0, 0, 6, 18, 26, 37, 50, 62, 83, 115, 134, 138, 144, 147, 150, 162, 163, 164, 161, 165, 169, 171, 176, 175, 177, 169, 147, 110, 79, 64, 42, 23, 13, 9, 2, 16, 26, 23, 26, 0, 0, 0, 0, ...]</td>\n",
              "      <td>Training</td>\n",
              "    </tr>\n",
              "  </tbody>\n",
              "</table>\n",
              "</div>"
            ],
            "text/plain": [
              "   emotion  ...     Usage\n",
              "0        0  ...  Training\n",
              "1        0  ...  Training\n",
              "2        2  ...  Training\n",
              "3        4  ...  Training\n",
              "4        6  ...  Training\n",
              "\n",
              "[5 rows x 3 columns]"
            ]
          },
          "metadata": {
            "tags": []
          },
          "execution_count": 17
        }
      ]
    },
    {
      "cell_type": "code",
      "metadata": {
        "colab": {
          "base_uri": "https://localhost:8080/"
        },
        "id": "jSqIYBS5bE4Y",
        "outputId": "b925163d-525f-4d1c-95a8-329f9eba018a"
      },
      "source": [
        "splits = RandomSplitter()(df)\r\n",
        "# splits\r\n",
        "tfm = EmotionDataset2(df)\r\n",
        "splits"
      ],
      "execution_count": 18,
      "outputs": [
        {
          "output_type": "execute_result",
          "data": {
            "text/plain": [
              "((#28710) [15472,24714,2056,14608,26807,3726,15565,6106,17233,10794...],\n",
              " (#7177) [28791,31222,24529,1612,13985,23263,31459,12121,9080,12391...])"
            ]
          },
          "metadata": {
            "tags": []
          },
          "execution_count": 18
        }
      ]
    },
    {
      "cell_type": "code",
      "metadata": {
        "id": "xLkD3YqubK4x"
      },
      "source": [
        "tls = TfmdLists(df, tfm,splits=splits)"
      ],
      "execution_count": 19,
      "outputs": []
    },
    {
      "cell_type": "code",
      "metadata": {
        "colab": {
          "base_uri": "https://localhost:8080/",
          "height": 119
        },
        "id": "m9xKYp_xbLWa",
        "outputId": "4d223c40-20e3-40c9-85bf-0e6d90607f88"
      },
      "source": [
        "show_at(tls.valid, 0)"
      ],
      "execution_count": 20,
      "outputs": [
        {
          "output_type": "execute_result",
          "data": {
            "text/plain": [
              "<matplotlib.axes._subplots.AxesSubplot at 0x7f27edfae358>"
            ]
          },
          "metadata": {
            "tags": []
          },
          "execution_count": 20
        },
        {
          "output_type": "display_data",
          "data": {
            "image/png": "[encoded data removed]",
            "text/plain": [
              "<Figure size 72x72 with 1 Axes>"
            ]
          },
          "metadata": {
            "tags": [],
            "needs_background": "light"
          }
        }
      ]
    },
    {
      "cell_type": "code",
      "metadata": {
        "colab": {
          "base_uri": "https://localhost:8080/"
        },
        "id": "qGy2dJr8bNiD",
        "outputId": "25a1a0d0-1ee3-4aeb-c536-cc6293c5f8b2"
      },
      "source": [
        "dls = tls.dataloaders(after_item=[ToTensor], \r\n",
        "                      batch_tfms=[Normalize.from_stats(*imagenet_stats)])\r\n",
        "dls.cuda()"
      ],
      "execution_count": 21,
      "outputs": [
        {
          "output_type": "execute_result",
          "data": {
            "text/plain": [
              "<fastai.data.core.DataLoaders at 0x7f27eda39cc0>"
            ]
          },
          "metadata": {
            "tags": []
          },
          "execution_count": 21
        }
      ]
    },
    {
      "cell_type": "code",
      "metadata": {
        "colab": {
          "base_uri": "https://localhost:8080/"
        },
        "id": "u8mEEegUbQe0",
        "outputId": "68e130d2-e827-4d24-b448-1019381da620"
      },
      "source": [
        "dls = tls.dataloaders(after_item=[ToTensor], \r\n",
        "                      after_batch=[IntToFloatTensor, Normalize.from_stats(*imagenet_stats)])\r\n",
        "\r\n",
        "dls.cuda()"
      ],
      "execution_count": 22,
      "outputs": [
        {
          "output_type": "execute_result",
          "data": {
            "text/plain": [
              "<fastai.data.core.DataLoaders at 0x7f27eda58668>"
            ]
          },
          "metadata": {
            "tags": []
          },
          "execution_count": 22
        }
      ]
    },
    {
      "cell_type": "code",
      "metadata": {
        "id": "xvz-fnJxbXPh"
      },
      "source": [
        "b = dls.one_batch()\r\n",
        "b"
      ],
      "execution_count": null,
      "outputs": []
    },
    {
      "cell_type": "code",
      "metadata": {
        "colab": {
          "base_uri": "https://localhost:8080/"
        },
        "id": "sH0DKmwlbZD-",
        "outputId": "d100a45a-2c2b-43d8-e28f-4005a03f31f6"
      },
      "source": [
        "dls._types,type(b)"
      ],
      "execution_count": 24,
      "outputs": [
        {
          "output_type": "execute_result",
          "data": {
            "text/plain": [
              "({__main__.EmotionImage: [fastai.torch_core.TensorImage, torch.Tensor]},\n",
              " __main__.EmotionImage)"
            ]
          },
          "metadata": {
            "tags": []
          },
          "execution_count": 24
        }
      ]
    },
    {
      "cell_type": "code",
      "metadata": {
        "colab": {
          "base_uri": "https://localhost:8080/",
          "height": 699
        },
        "id": "sPvO6VahbdpF",
        "outputId": "243ff006-bb7e-4dd4-9528-c942c8e19f4d"
      },
      "source": [
        "dls.show_batch()"
      ],
      "execution_count": 25,
      "outputs": [
        {
          "output_type": "display_data",
          "data": {
            "image/png": "[encoded data removed]",
            "text/plain": [
              "<Figure size 864x864 with 6 Axes>"
            ]
          },
          "metadata": {
            "tags": [],
            "needs_background": "light"
          }
        }
      ]
    },
    {
      "cell_type": "code",
      "metadata": {
        "id": "jlNGLiAIbgT-"
      },
      "source": [
        ""
      ],
      "execution_count": null,
      "outputs": []
    },
    {
      "cell_type": "code",
      "metadata": {
        "id": "ykx-H-C9uyvK"
      },
      "source": [
        "dls.c=7"
      ],
      "execution_count": 26,
      "outputs": []
    },
    {
      "cell_type": "code",
      "metadata": {
        "id": "M3xwlS4Wy5Td",
        "colab": {
          "base_uri": "https://localhost:8080/",
          "height": 106,
          "referenced_widgets": [
            "879c58481b714557bde8df0f16026c7a",
            "6b15a2d470b14293ae384b0edbc06598",
            "82cd005932344f5a895c1e44e5989f6d",
            "83b6eab9a0dc420aab6541f1f5f0613c",
            "a8bca412cef34991804fe48b8c50feb0",
            "cf7f346dbfa64356aae684fa87674940",
            "3ef988df6aa9436e85d4eea4b0fbf5f3",
            "b8b80f1f0eb64108a7816f917b3003af"
          ]
        },
        "outputId": "4d65fecf-db20-47fd-e33a-6d9fd90d8e62"
      },
      "source": [
        "learn=cnn_learner(dls,arch=models.resnet18, loss_func=nn.BCEWithLogitsLoss(), opt_func=Adam,metrics=accuracy_multi, cbs=CudaCallback)"
      ],
      "execution_count": 27,
      "outputs": [
        {
          "output_type": "stream",
          "text": [
            "Downloading: \"https://download.pytorch.org/models/resnet18-5c106cde.pth\" to /root/.cache/torch/hub/checkpoints/resnet18-5c106cde.pth\n"
          ],
          "name": "stderr"
        },
        {
          "output_type": "display_data",
          "data": {
            "application/vnd.jupyter.widget-view+json": {
              "model_id": "879c58481b714557bde8df0f16026c7a",
              "version_minor": 0,
              "version_major": 2
            },
            "text/plain": [
              "HBox(children=(FloatProgress(value=0.0, max=46827520.0), HTML(value='')))"
            ]
          },
          "metadata": {
            "tags": []
          }
        },
        {
          "output_type": "stream",
          "text": [
            "\n"
          ],
          "name": "stdout"
        }
      ]
    },
    {
      "cell_type": "code",
      "metadata": {
        "id": "QxbN1FMXltzc",
        "colab": {
          "base_uri": "https://localhost:8080/"
        },
        "outputId": "9c0db913-561d-4700-dc5d-65998e954213"
      },
      "source": [
        "\r\n",
        "x,y = to_cpu(dls.train.one_batch())\r\n",
        "print(x.shape)\r\n",
        "activs = learn.model(x)\r\n",
        "activs"
      ],
      "execution_count": 28,
      "outputs": [
        {
          "output_type": "stream",
          "text": [
            "(64, 3, 48, 48)\n"
          ],
          "name": "stdout"
        },
        {
          "output_type": "execute_result",
          "data": {
            "text/plain": [
              "tensor([[ 5.8827e-01,  1.3938e+00,  3.6762e-01,  1.0187e+00, -1.2684e+00,\n",
              "         -1.8702e+00, -1.0244e+00],\n",
              "        [ 2.6026e+00,  5.9460e-01, -4.5735e+00, -2.2398e+00, -2.5668e-01,\n",
              "         -9.1614e-01,  9.0380e-01],\n",
              "        [-9.8989e-01, -1.6091e+00, -1.0940e+00,  4.1969e+00,  1.2294e+00,\n",
              "          1.5809e+00,  1.0913e+00],\n",
              "        [-3.2138e-01, -1.7353e+00,  4.3692e-01, -3.0477e+00,  2.3505e+00,\n",
              "          3.0755e-01, -7.3365e-01],\n",
              "        [-1.6699e+00, -3.7591e+00, -1.1522e+00,  2.9220e-01, -3.8049e-01,\n",
              "          2.1431e+00,  1.9065e+00],\n",
              "        [-8.8583e-01,  2.3809e-02,  1.0638e+00, -1.9416e+00,  3.0871e+00,\n",
              "          1.7238e+00,  1.8625e+00],\n",
              "        [ 3.8793e-01, -2.4201e-01,  4.3704e-01, -1.1156e+00,  6.3934e-02,\n",
              "          1.9700e+00, -1.4421e+00],\n",
              "        [-1.6378e+00, -3.5857e+00,  8.5440e-01, -1.7116e+00, -5.4089e+00,\n",
              "          4.3127e+00,  1.0203e+00],\n",
              "        [ 2.6454e-01,  5.9569e-01,  7.7691e-01, -1.2315e+00, -9.2319e-01,\n",
              "          6.6635e-01,  1.2043e-01],\n",
              "        [-2.2309e+00,  4.2046e+00, -3.1595e+00,  5.5637e+00, -2.6272e-01,\n",
              "         -1.2994e+00,  5.6005e-01],\n",
              "        [-1.7052e+00,  1.1221e+00, -5.8473e-02,  1.5719e+00,  3.0569e+00,\n",
              "         -1.1853e+00,  1.4147e+00],\n",
              "        [ 3.0086e+00,  2.4910e+00,  2.9733e-01,  3.6003e+00, -9.5012e-01,\n",
              "         -4.8489e+00, -3.0593e+00],\n",
              "        [ 8.8559e-01,  1.9008e+00, -6.0108e-01,  9.8939e-01,  4.2443e+00,\n",
              "          6.3855e-01,  4.3788e+00],\n",
              "        [-2.3041e+00,  1.1673e+00,  1.5940e-01, -1.6911e+00, -2.4027e+00,\n",
              "         -7.6367e-01, -2.0299e+00],\n",
              "        [ 6.9598e-03, -5.6398e-01,  1.1332e+00,  8.6551e-01, -1.5741e+00,\n",
              "          1.1354e+00,  8.0931e-01],\n",
              "        [ 2.1767e+00,  3.8295e-01, -3.7254e+00, -2.8214e+00,  1.6998e+00,\n",
              "         -2.6368e+00, -1.7804e+00],\n",
              "        [-1.9116e-01,  1.0949e+00, -4.1029e+00,  4.7600e+00, -1.9426e+00,\n",
              "          1.3490e+00, -1.1387e+00],\n",
              "        [-1.2334e+00,  1.7071e+00, -1.6099e+00,  2.0601e+00, -7.0093e-01,\n",
              "         -3.3635e-01,  7.4789e-01],\n",
              "        [-3.7711e+00, -1.5672e+00,  1.2021e-01, -4.5210e+00, -2.7090e-01,\n",
              "          3.8849e+00, -4.4213e+00],\n",
              "        [ 1.0911e+00, -7.0471e-01,  8.2416e-01, -5.0665e-01,  1.5501e+00,\n",
              "         -3.7283e-01,  3.0165e-01],\n",
              "        [-1.1138e+00,  1.7107e+00,  2.2044e-01, -4.8398e-01, -1.5912e+00,\n",
              "         -3.6673e-01, -6.2493e-01],\n",
              "        [ 4.5674e-01,  6.8777e-01, -1.4186e+00, -1.0523e-02,  4.7128e-01,\n",
              "          1.5334e+00,  2.5166e-02],\n",
              "        [-1.9347e+00,  2.5409e-01,  3.8510e-01,  6.8110e-02,  6.8245e-01,\n",
              "          2.4448e+00,  3.2512e+00],\n",
              "        [-2.3034e+00,  1.4923e+00,  1.2698e+00,  1.5236e+00, -1.7620e+00,\n",
              "          3.4075e-01,  1.0393e+00],\n",
              "        [ 7.0159e-01, -1.4834e+00,  7.8613e-01,  1.5109e+00,  2.2578e+00,\n",
              "          1.1838e+00,  6.0242e-02],\n",
              "        [-5.1124e-01,  2.0444e+00,  4.6086e-01, -3.8913e-02,  6.5528e-01,\n",
              "         -2.7796e-01,  7.2442e-01],\n",
              "        [ 1.0801e-01, -2.0277e+00, -3.1804e+00,  9.7726e-01, -1.6095e+00,\n",
              "         -1.9663e+00,  1.2282e+00],\n",
              "        [ 2.4141e+00, -2.4576e+00,  4.6671e+00,  2.8933e-01,  2.9558e+00,\n",
              "         -1.3173e+00,  4.0681e-01],\n",
              "        [-2.4137e-01,  1.9418e+00,  8.5218e-01, -3.0802e+00,  1.7703e+00,\n",
              "          1.0725e+00,  9.6475e-01],\n",
              "        [ 8.8841e-01,  2.5604e+00,  2.1423e+00, -3.0248e-01,  1.6045e+00,\n",
              "         -7.2214e-01,  3.5053e-01],\n",
              "        [ 3.1191e+00, -1.9252e+00,  1.9322e+00, -8.7666e-02,  4.4686e+00,\n",
              "         -1.2080e+00,  2.1068e+00],\n",
              "        [ 1.2130e+00, -2.1012e+00, -4.5207e-01,  5.7624e-01, -3.8492e-01,\n",
              "          1.5203e+00,  8.6391e-04],\n",
              "        [-2.2293e-01,  2.1494e-02,  3.5689e-01,  2.1451e+00,  2.6482e-01,\n",
              "          1.1238e+00, -9.8296e-01],\n",
              "        [-1.7366e+00, -9.4552e-01, -1.1026e+00, -4.4196e-01, -4.0304e+00,\n",
              "          3.0931e+00,  6.4252e-01],\n",
              "        [ 1.4502e+00, -2.3282e+00, -2.6731e+00, -3.5067e+00,  1.8532e+00,\n",
              "         -1.2059e+00, -6.7339e-01],\n",
              "        [-4.5807e+00,  3.9556e+00,  5.8391e-01, -2.0798e+00,  2.3608e+00,\n",
              "         -3.7484e+00, -3.9702e+00],\n",
              "        [ 1.6797e+00,  1.0150e+00, -1.0082e+00, -2.2388e+00,  3.6906e+00,\n",
              "         -2.3243e+00,  1.7205e+00],\n",
              "        [ 1.4371e+00,  3.7333e+00,  2.2899e+00,  4.3517e+00, -1.0218e+00,\n",
              "          1.5204e+00,  1.0625e+00],\n",
              "        [ 1.5576e+00, -5.6570e+00,  6.9758e-01, -8.2328e-01,  6.6790e-01,\n",
              "          1.0873e-01,  2.0348e+00],\n",
              "        [ 8.8664e-01, -1.1056e+00,  2.3515e+00, -7.2114e-01,  1.5947e+00,\n",
              "         -2.3526e-01, -2.0089e+00],\n",
              "        [ 1.8580e+00, -9.0046e-01, -1.1655e+00,  2.9421e+00,  3.8752e-01,\n",
              "         -1.0391e+00,  2.5473e+00],\n",
              "        [-5.3159e+00, -1.5637e+00,  3.8431e+00, -1.0894e+00,  9.2424e-01,\n",
              "          3.8306e+00, -2.6704e+00],\n",
              "        [ 4.1236e-01, -1.2701e+00,  4.6522e-01,  1.4221e+00, -2.7740e-01,\n",
              "         -3.4925e+00, -5.7471e-01],\n",
              "        [ 3.7806e+00,  1.5821e-02,  3.8310e+00, -3.3864e+00, -5.4457e-01,\n",
              "         -1.2900e+00, -2.0699e-01],\n",
              "        [ 2.0840e+00,  8.3001e-01,  2.7522e-01,  7.8455e-01,  4.8669e-01,\n",
              "         -3.4865e+00, -1.9824e+00],\n",
              "        [-3.3768e+00,  8.2931e-01, -1.0994e+00, -4.5440e+00,  1.9994e-01,\n",
              "         -1.9030e+00, -3.2607e+00],\n",
              "        [ 2.6398e-01,  3.1331e+00, -2.1556e+00,  5.1836e-01, -3.4696e+00,\n",
              "         -2.0209e+00,  9.1992e-01],\n",
              "        [-9.2676e-01,  6.5688e-02, -4.2968e-01,  3.0687e+00,  5.4221e-01,\n",
              "          2.7071e+00,  5.3265e-01],\n",
              "        [ 1.7085e+00,  8.3494e-01, -2.6999e+00, -3.5663e-01, -2.9297e+00,\n",
              "          8.6038e-01, -2.4838e+00],\n",
              "        [-1.1624e+00, -1.4163e+00,  1.6409e+00, -1.8826e+00, -1.3078e+00,\n",
              "         -2.7149e+00, -3.1619e+00],\n",
              "        [-6.9051e-01,  4.3801e-02, -2.2247e+00, -1.3398e+00,  2.6639e+00,\n",
              "         -1.0710e+00, -1.1936e-01],\n",
              "        [-5.9585e+00, -1.8274e+00,  3.9520e+00, -8.0468e-01, -5.0097e-01,\n",
              "          3.2029e+00, -3.6631e+00],\n",
              "        [-1.7309e-01,  2.2693e+00,  2.3249e+00, -9.8918e-01, -1.2829e+00,\n",
              "          6.1036e-01, -2.1380e+00],\n",
              "        [ 7.0997e-01,  2.1643e+00, -3.0995e+00,  1.1852e+00, -2.2590e+00,\n",
              "          1.3215e+00, -5.4835e-01],\n",
              "        [ 1.3045e+00,  3.2528e+00, -3.3369e+00, -2.2929e+00, -4.0389e-01,\n",
              "         -2.4301e+00, -2.6675e+00],\n",
              "        [ 3.2546e+00, -1.7074e+00, -1.0450e+00, -1.0869e-01, -6.2644e-01,\n",
              "         -1.2865e+00, -5.0647e-01],\n",
              "        [ 9.4458e-01, -1.2483e+00,  2.2541e-02, -2.2972e-02, -5.3358e-01,\n",
              "          9.8712e-01,  7.0529e-01],\n",
              "        [-2.1432e+00, -1.6215e+00,  2.5251e+00, -1.1768e+00,  1.1626e+00,\n",
              "         -7.0103e-01,  3.6688e+00],\n",
              "        [-2.9767e+00, -1.6523e+00, -1.2954e+00, -1.7553e+00, -3.7516e-01,\n",
              "          3.2071e-01,  2.5370e-01],\n",
              "        [ 1.2060e+00,  5.8572e-01, -2.7958e-01, -1.8212e+00,  1.9411e-01,\n",
              "         -1.9298e-02,  5.8272e-01],\n",
              "        [-2.7352e+00, -1.7257e+00, -3.9121e+00,  1.9320e-01,  5.1393e-01,\n",
              "         -2.2065e+00, -1.4879e+00],\n",
              "        [-1.9913e-01, -2.2742e-01, -1.1802e+00,  2.7348e-01, -1.0991e+00,\n",
              "          1.2853e+00,  3.8912e-01],\n",
              "        [-1.4146e+00,  1.5336e+00,  2.6453e-01, -1.6638e+00, -6.5085e-01,\n",
              "          1.0837e+00,  1.2151e+00],\n",
              "        [ 7.6499e+00, -2.3646e+00,  4.8491e+00,  1.0128e+00, -1.1849e-01,\n",
              "         -4.4694e-01, -5.6065e-02]], grad_fn=<MmBackward>)"
            ]
          },
          "metadata": {
            "tags": []
          },
          "execution_count": 28
        }
      ]
    },
    {
      "cell_type": "code",
      "metadata": {
        "colab": {
          "base_uri": "https://localhost:8080/",
          "height": 699
        },
        "id": "WK6BQnU4bohW",
        "outputId": "3fc550d6-b15a-4a8d-b8b1-e7aebf61ad6c"
      },
      "source": [
        "dls.show_batch()"
      ],
      "execution_count": 29,
      "outputs": [
        {
          "output_type": "display_data",
          "data": {
            "image/png": "[encoded data removed]",
            "text/plain": [
              "<Figure size 864x864 with 6 Axes>"
            ]
          },
          "metadata": {
            "tags": [],
            "needs_background": "light"
          }
        }
      ]
    },
    {
      "cell_type": "code",
      "metadata": {
        "colab": {
          "base_uri": "https://localhost:8080/",
          "height": 301
        },
        "id": "QFmeokrdbrmr",
        "outputId": "e6f1ff10-46f3-435d-f064-9075fce91d7c"
      },
      "source": [
        "learn.lr_find()"
      ],
      "execution_count": 30,
      "outputs": [
        {
          "output_type": "display_data",
          "data": {
            "text/html": [
              ""
            ],
            "text/plain": [
              "<IPython.core.display.HTML object>"
            ]
          },
          "metadata": {
            "tags": []
          }
        },
        {
          "output_type": "execute_result",
          "data": {
            "text/plain": [
              "SuggestedLRs(lr_min=0.017378008365631102, lr_steep=0.033113110810518265)"
            ]
          },
          "metadata": {
            "tags": []
          },
          "execution_count": 30
        },
        {
          "output_type": "display_data",
          "data": {
            "image/png": "[encoded data removed]",
            "text/plain": [
              "<Figure size 432x288 with 1 Axes>"
            ]
          },
          "metadata": {
            "tags": [],
            "needs_background": "light"
          }
        }
      ]
    },
    {
      "cell_type": "code",
      "metadata": {
        "id": "OJvTCgZHbty0"
      },
      "source": [
        "learn.freeze()"
      ],
      "execution_count": 31,
      "outputs": []
    },
    {
      "cell_type": "code",
      "metadata": {
        "colab": {
          "base_uri": "https://localhost:8080/",
          "height": 520
        },
        "id": "MRsyp8tfbvy5",
        "outputId": "f5bf98b0-2104-45c9-cc5e-1d7c197ea232"
      },
      "source": [
        "learn.fit_one_cycle(15,1e-02)                              "
      ],
      "execution_count": 32,
      "outputs": [
        {
          "output_type": "display_data",
          "data": {
            "text/html": [
              "<table border=\"1\" class=\"dataframe\">\n",
              "  <thead>\n",
              "    <tr style=\"text-align: left;\">\n",
              "      <th>epoch</th>\n",
              "      <th>train_loss</th>\n",
              "      <th>valid_loss</th>\n",
              "      <th>accuracy_multi</th>\n",
              "      <th>time</th>\n",
              "    </tr>\n",
              "  </thead>\n",
              "  <tbody>\n",
              "    <tr>\n",
              "      <td>0</td>\n",
              "      <td>0.408147</td>\n",
              "      <td>0.360819</td>\n",
              "      <td>0.862159</td>\n",
              "      <td>00:32</td>\n",
              "    </tr>\n",
              "    <tr>\n",
              "      <td>1</td>\n",
              "      <td>0.324506</td>\n",
              "      <td>0.311953</td>\n",
              "      <td>0.878580</td>\n",
              "      <td>00:32</td>\n",
              "    </tr>\n",
              "    <tr>\n",
              "      <td>2</td>\n",
              "      <td>0.304233</td>\n",
              "      <td>0.292537</td>\n",
              "      <td>0.881805</td>\n",
              "      <td>00:32</td>\n",
              "    </tr>\n",
              "    <tr>\n",
              "      <td>3</td>\n",
              "      <td>0.294612</td>\n",
              "      <td>0.286687</td>\n",
              "      <td>0.884233</td>\n",
              "      <td>00:32</td>\n",
              "    </tr>\n",
              "    <tr>\n",
              "      <td>4</td>\n",
              "      <td>0.286494</td>\n",
              "      <td>0.280877</td>\n",
              "      <td>0.884811</td>\n",
              "      <td>00:32</td>\n",
              "    </tr>\n",
              "    <tr>\n",
              "      <td>5</td>\n",
              "      <td>0.280354</td>\n",
              "      <td>0.280956</td>\n",
              "      <td>0.885846</td>\n",
              "      <td>00:32</td>\n",
              "    </tr>\n",
              "    <tr>\n",
              "      <td>6</td>\n",
              "      <td>0.271731</td>\n",
              "      <td>0.269768</td>\n",
              "      <td>0.889906</td>\n",
              "      <td>00:33</td>\n",
              "    </tr>\n",
              "    <tr>\n",
              "      <td>7</td>\n",
              "      <td>0.267250</td>\n",
              "      <td>0.273797</td>\n",
              "      <td>0.888772</td>\n",
              "      <td>00:33</td>\n",
              "    </tr>\n",
              "    <tr>\n",
              "      <td>8</td>\n",
              "      <td>0.266376</td>\n",
              "      <td>0.269553</td>\n",
              "      <td>0.888652</td>\n",
              "      <td>00:33</td>\n",
              "    </tr>\n",
              "    <tr>\n",
              "      <td>9</td>\n",
              "      <td>0.257021</td>\n",
              "      <td>0.264344</td>\n",
              "      <td>0.891220</td>\n",
              "      <td>00:33</td>\n",
              "    </tr>\n",
              "    <tr>\n",
              "      <td>10</td>\n",
              "      <td>0.251114</td>\n",
              "      <td>0.262657</td>\n",
              "      <td>0.892195</td>\n",
              "      <td>00:33</td>\n",
              "    </tr>\n",
              "    <tr>\n",
              "      <td>11</td>\n",
              "      <td>0.246714</td>\n",
              "      <td>0.261712</td>\n",
              "      <td>0.892056</td>\n",
              "      <td>00:33</td>\n",
              "    </tr>\n",
              "    <tr>\n",
              "      <td>12</td>\n",
              "      <td>0.237453</td>\n",
              "      <td>0.260768</td>\n",
              "      <td>0.892812</td>\n",
              "      <td>00:33</td>\n",
              "    </tr>\n",
              "    <tr>\n",
              "      <td>13</td>\n",
              "      <td>0.237046</td>\n",
              "      <td>0.261608</td>\n",
              "      <td>0.892713</td>\n",
              "      <td>00:33</td>\n",
              "    </tr>\n",
              "    <tr>\n",
              "      <td>14</td>\n",
              "      <td>0.235652</td>\n",
              "      <td>0.261425</td>\n",
              "      <td>0.892514</td>\n",
              "      <td>00:33</td>\n",
              "    </tr>\n",
              "  </tbody>\n",
              "</table>"
            ],
            "text/plain": [
              "<IPython.core.display.HTML object>"
            ]
          },
          "metadata": {
            "tags": []
          }
        }
      ]
    },
    {
      "cell_type": "code",
      "metadata": {
        "id": "EtwwgEUabxf1"
      },
      "source": [
        ""
      ],
      "execution_count": null,
      "outputs": []
    },
    {
      "cell_type": "code",
      "metadata": {
        "id": "3E-_t93VU3yR"
      },
      "source": [
        "learn.unfreeze()\r\n"
      ],
      "execution_count": 33,
      "outputs": []
    },
    {
      "cell_type": "code",
      "metadata": {
        "colab": {
          "base_uri": "https://localhost:8080/",
          "height": 301
        },
        "id": "KsUxp11OjqyP",
        "outputId": "072a584c-f846-4c42-f566-14a70ccf8816"
      },
      "source": [
        "learn.lr_find()"
      ],
      "execution_count": 35,
      "outputs": [
        {
          "output_type": "display_data",
          "data": {
            "text/html": [
              ""
            ],
            "text/plain": [
              "<IPython.core.display.HTML object>"
            ]
          },
          "metadata": {
            "tags": []
          }
        },
        {
          "output_type": "execute_result",
          "data": {
            "text/plain": [
              "SuggestedLRs(lr_min=7.585775847473997e-08, lr_steep=3.311311274956097e-06)"
            ]
          },
          "metadata": {
            "tags": []
          },
          "execution_count": 35
        },
        {
          "output_type": "display_data",
          "data": {
            "image/png": "[encoded data removed]",
            "text/plain": [
              "<Figure size 432x288 with 1 Axes>"
            ]
          },
          "metadata": {
            "tags": [],
            "needs_background": "light"
          }
        }
      ]
    },
    {
      "cell_type": "code",
      "metadata": {
        "colab": {
          "base_uri": "https://localhost:8080/",
          "height": 206
        },
        "id": "wLc5NvWejqwO",
        "outputId": "d895e31b-4b11-4e36-ff7d-e647bbae9dd9"
      },
      "source": [
        "learn.fit_one_cycle(5,1e-06)                              "
      ],
      "execution_count": 36,
      "outputs": [
        {
          "output_type": "display_data",
          "data": {
            "text/html": [
              "<table border=\"1\" class=\"dataframe\">\n",
              "  <thead>\n",
              "    <tr style=\"text-align: left;\">\n",
              "      <th>epoch</th>\n",
              "      <th>train_loss</th>\n",
              "      <th>valid_loss</th>\n",
              "      <th>accuracy_multi</th>\n",
              "      <th>time</th>\n",
              "    </tr>\n",
              "  </thead>\n",
              "  <tbody>\n",
              "    <tr>\n",
              "      <td>0</td>\n",
              "      <td>0.236362</td>\n",
              "      <td>0.262170</td>\n",
              "      <td>0.892594</td>\n",
              "      <td>00:34</td>\n",
              "    </tr>\n",
              "    <tr>\n",
              "      <td>1</td>\n",
              "      <td>0.232719</td>\n",
              "      <td>0.260156</td>\n",
              "      <td>0.893250</td>\n",
              "      <td>00:34</td>\n",
              "    </tr>\n",
              "    <tr>\n",
              "      <td>2</td>\n",
              "      <td>0.227628</td>\n",
              "      <td>0.259960</td>\n",
              "      <td>0.892991</td>\n",
              "      <td>00:34</td>\n",
              "    </tr>\n",
              "    <tr>\n",
              "      <td>3</td>\n",
              "      <td>0.230647</td>\n",
              "      <td>0.260898</td>\n",
              "      <td>0.893648</td>\n",
              "      <td>00:34</td>\n",
              "    </tr>\n",
              "    <tr>\n",
              "      <td>4</td>\n",
              "      <td>0.228657</td>\n",
              "      <td>0.260356</td>\n",
              "      <td>0.893190</td>\n",
              "      <td>00:34</td>\n",
              "    </tr>\n",
              "  </tbody>\n",
              "</table>"
            ],
            "text/plain": [
              "<IPython.core.display.HTML object>"
            ]
          },
          "metadata": {
            "tags": []
          }
        }
      ]
    },
    {
      "cell_type": "code",
      "metadata": {
        "id": "eWnyKVWCjqrL"
      },
      "source": [
        "# intrep=Interpretation.from_learner(learn)"
      ],
      "execution_count": 37,
      "outputs": []
    },
    {
      "cell_type": "code",
      "metadata": {
        "id": "m9t8tzJCoKle"
      },
      "source": [
        "# intrep.plot_top_losses(9, figsize=(15,10))"
      ],
      "execution_count": 38,
      "outputs": []
    },
    {
      "cell_type": "code",
      "metadata": {
        "id": "VZk5T0uMoKjF"
      },
      "source": [
        "# learn.show_results()"
      ],
      "execution_count": 39,
      "outputs": []
    },
    {
      "cell_type": "code",
      "metadata": {
        "id": "2YPRvZkNvu9e"
      },
      "source": [
        "learn.freeze()"
      ],
      "execution_count": 40,
      "outputs": []
    },
    {
      "cell_type": "code",
      "metadata": {
        "id": "ZJ4GksGuuoWA"
      },
      "source": [
        "learn.export()                                                                             \r\n"
      ],
      "execution_count": 41,
      "outputs": []
    },
    {
      "cell_type": "code",
      "metadata": {
        "id": "uFBhUqsvgtsQ"
      },
      "source": [
        "i=PILImage.create(\"/content/download (1).png\",mode='L')"
      ],
      "execution_count": 58,
      "outputs": []
    },
    {
      "cell_type": "code",
      "metadata": {
        "colab": {
          "base_uri": "https://localhost:8080/"
        },
        "id": "Bt37_pfJhYlk",
        "outputId": "11db74d2-5593-4a36-e893-ed599fb3e266"
      },
      "source": [
        "m=PILImage(i)\r\n",
        "print(type(m))"
      ],
      "execution_count": 69,
      "outputs": [
        {
          "output_type": "stream",
          "text": [
            "<class 'fastai.vision.core.PILImage'>\n"
          ],
          "name": "stdout"
        }
      ]
    },
    {
      "cell_type": "code",
      "metadata": {
        "id": "ysVwFD8_hZLY"
      },
      "source": [
        "# k=EmotionImage(i)\r\n"
      ],
      "execution_count": 70,
      "outputs": []
    },
    {
      "cell_type": "code",
      "metadata": {
        "colab": {
          "base_uri": "https://localhost:8080/",
          "height": 17
        },
        "id": "7AJU_W7ohf27",
        "outputId": "b93d0c01-bf7a-4a8f-c425-77c7160b10e1"
      },
      "source": [
        "pred=learn.predict(k)"
      ],
      "execution_count": 61,
      "outputs": [
        {
          "output_type": "display_data",
          "data": {
            "text/html": [
              ""
            ],
            "text/plain": [
              "<IPython.core.display.HTML object>"
            ]
          },
          "metadata": {
            "tags": []
          }
        }
      ]
    },
    {
      "cell_type": "code",
      "metadata": {
        "id": "XwJ8_3Avhwbt"
      },
      "source": [
        "p=torch.argmax(pred[0])"
      ],
      "execution_count": 62,
      "outputs": []
    },
    {
      "cell_type": "code",
      "metadata": {
        "id": "zfLYocmUh7L8"
      },
      "source": [
        "id=p.item()                                                                      "
      ],
      "execution_count": 63,
      "outputs": []
    },
    {
      "cell_type": "code",
      "metadata": {
        "id": "eGLn48RJiGlK"
      },
      "source": [
        "objects = ['angry', 'disgust', 'fear', 'happy', 'sad', 'surprise', 'neutral']"
      ],
      "execution_count": 56,
      "outputs": []
    },
    {
      "cell_type": "code",
      "metadata": {
        "colab": {
          "base_uri": "https://localhost:8080/",
          "height": 36
        },
        "id": "VAABUjsBlTi2",
        "outputId": "d1654e05-62c7-499f-c46d-1acd4e0f1938"
      },
      "source": [
        "objects[2]"
      ],
      "execution_count": 57,
      "outputs": [
        {
          "output_type": "execute_result",
          "data": {
            "application/vnd.google.colaboratory.intrinsic+json": {
              "type": "string"
            },
            "text/plain": [
              "'fear'"
            ]
          },
          "metadata": {
            "tags": []
          },
          "execution_count": 57
        }
      ]
    },
    {
      "cell_type": "code",
      "metadata": {
        "id": "AzQp-eXZltVC"
      },
      "source": [
        ""
      ],
      "execution_count": null,
      "outputs": []
    }
  ]
}